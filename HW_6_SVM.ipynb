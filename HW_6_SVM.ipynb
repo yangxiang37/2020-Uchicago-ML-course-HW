{
 "cells": [
  {
   "cell_type": "markdown",
   "metadata": {},
   "source": [
    "#### 1. Data Processing:"
   ]
  },
  {
   "cell_type": "code",
   "execution_count": 176,
   "metadata": {},
   "outputs": [],
   "source": [
    "# a) Import the data\n",
    "import pandas as pd\n",
    "import numpy as np\n",
    "Train = pd.read_csv('train_data.csv')\n",
    "Test = pd.read_csv('test_data.csv')"
   ]
  },
  {
   "cell_type": "code",
   "execution_count": 177,
   "metadata": {},
   "outputs": [
    {
     "data": {
      "text/plain": [
       "(507, 148)"
      ]
     },
     "execution_count": 177,
     "metadata": {},
     "output_type": "execute_result"
    }
   ],
   "source": [
    "Train.shape"
   ]
  },
  {
   "cell_type": "code",
   "execution_count": 178,
   "metadata": {},
   "outputs": [
    {
     "data": {
      "text/plain": [
       "(168, 148)"
      ]
     },
     "execution_count": 178,
     "metadata": {},
     "output_type": "execute_result"
    }
   ],
   "source": [
    "Test.shape"
   ]
  },
  {
   "cell_type": "code",
   "execution_count": 179,
   "metadata": {},
   "outputs": [],
   "source": [
    "# b) Remove any rows that have missing data across both sets of data.\n",
    "Train.dropna(how='any',inplace=True)\n",
    "Test.dropna(how='any',inplace=True)"
   ]
  },
  {
   "cell_type": "code",
   "execution_count": 180,
   "metadata": {},
   "outputs": [],
   "source": [
    "# c) The target variable (dependent variable) is called \"class\", make sure to separate this out into a \"y_train\" and \"y_test\" and remove from your \"X_train\" and \"X_test\".\n",
    "X_train=Train.drop(columns=['class'])\n",
    "y_train=Train['class']\n",
    "X_test=Test.drop(columns=['class'])\n",
    "y_test=Test['class']"
   ]
  },
  {
   "cell_type": "code",
   "execution_count": 181,
   "metadata": {},
   "outputs": [
    {
     "data": {
      "text/plain": [
       "(507, 147)"
      ]
     },
     "execution_count": 181,
     "metadata": {},
     "output_type": "execute_result"
    }
   ],
   "source": [
    "# d) Scale all features / predictors (NOT THE TARGET VARIABLE)\n",
    "from sklearn.preprocessing import StandardScaler\n",
    "scaler = StandardScaler()\n",
    "scaler.fit(X_train)\n",
    "X_train=scaler.transform(X_train)\n",
    "X_train.shape"
   ]
  },
  {
   "cell_type": "code",
   "execution_count": 182,
   "metadata": {},
   "outputs": [
    {
     "data": {
      "text/plain": [
       "(168, 147)"
      ]
     },
     "execution_count": 182,
     "metadata": {},
     "output_type": "execute_result"
    }
   ],
   "source": [
    "scaler = StandardScaler()\n",
    "scaler.fit(X_test)\n",
    "X_test=scaler.transform(X_test)\n",
    "X_test.shape"
   ]
  },
  {
   "cell_type": "markdown",
   "metadata": {},
   "source": [
    "#### 2. Random Forest Classifier - Base Model:"
   ]
  },
  {
   "cell_type": "code",
   "execution_count": 21,
   "metadata": {},
   "outputs": [
    {
     "data": {
      "text/plain": [
       "RandomForestClassifier(bootstrap=True, ccp_alpha=0.0, class_weight=None,\n",
       "                       criterion='gini', max_depth=None, max_features='auto',\n",
       "                       max_leaf_nodes=None, max_samples=None,\n",
       "                       min_impurity_decrease=0.0, min_impurity_split=None,\n",
       "                       min_samples_leaf=1, min_samples_split=2,\n",
       "                       min_weight_fraction_leaf=0.0, n_estimators=100,\n",
       "                       n_jobs=None, oob_score=False, random_state=42, verbose=0,\n",
       "                       warm_start=False)"
      ]
     },
     "execution_count": 21,
     "metadata": {},
     "output_type": "execute_result"
    }
   ],
   "source": [
    "# a) Use the RandomForestClassifier in sklearn. Fit your model on the training data.\n",
    "from sklearn.ensemble import RandomForestClassifier\n",
    "rnd_clf = RandomForestClassifier(random_state=42)\n",
    "rnd_clf.fit(X_train, y_train)"
   ]
  },
  {
   "cell_type": "code",
   "execution_count": 22,
   "metadata": {},
   "outputs": [],
   "source": [
    "#b) Use the fitted model to predict on test data. Use the .predict() method to get the predicted classes\n",
    "y_pred_rf = rnd_clf.predict(X_test)\n",
    "y_pred_proba_rf=rnd_clf.predict_proba(X_test)"
   ]
  },
  {
   "cell_type": "code",
   "execution_count": 23,
   "metadata": {},
   "outputs": [
    {
     "data": {
      "text/plain": [
       "array([[14,  0,  0,  0,  0,  0,  0,  0,  0],\n",
       "       [ 1, 22,  0,  2,  0,  0,  0,  0,  0],\n",
       "       [ 1,  1, 13,  0,  0,  0,  0,  0,  0],\n",
       "       [ 0,  5,  0, 18,  0,  0,  0,  0,  0],\n",
       "       [ 0,  0,  0,  0, 25,  0,  0,  0,  4],\n",
       "       [ 1,  0,  1,  0,  0, 13,  0,  0,  0],\n",
       "       [ 3,  0,  0,  0,  0,  0, 13,  0,  0],\n",
       "       [ 0,  1,  0,  5,  3,  0,  0,  5,  0],\n",
       "       [ 0,  0,  0,  1,  1,  0,  0,  0, 15]])"
      ]
     },
     "execution_count": 23,
     "metadata": {},
     "output_type": "execute_result"
    }
   ],
   "source": [
    "# c) Calculate the confusion matrix and classification report for the test data. \n",
    "from sklearn.metrics import confusion_matrix\n",
    "confusion_matrix(y_test, y_pred_rf)"
   ]
  },
  {
   "cell_type": "code",
   "execution_count": 25,
   "metadata": {},
   "outputs": [
    {
     "name": "stdout",
     "output_type": "stream",
     "text": [
      "              precision    recall  f1-score   support\n",
      "\n",
      "    asphalt        0.70      1.00      0.82        14\n",
      "   building        0.76      0.88      0.81        25\n",
      "        car        0.93      0.87      0.90        15\n",
      "   concrete        0.69      0.78      0.73        23\n",
      "      grass        0.86      0.86      0.86        29\n",
      "       pool        1.00      0.87      0.93        15\n",
      "     shadow        1.00      0.81      0.90        16\n",
      "       soil        1.00      0.36      0.53        14\n",
      "       tree        0.79      0.88      0.83        17\n",
      "\n",
      "    accuracy                           0.82       168\n",
      "   macro avg       0.86      0.81      0.81       168\n",
      "weighted avg       0.85      0.82      0.82       168\n",
      "\n"
     ]
    }
   ],
   "source": [
    "# Build the classification report\n",
    "from sklearn.metrics import classification_report\n",
    "print(classification_report(y_test, y_pred_rf))"
   ]
  },
  {
   "cell_type": "code",
   "execution_count": 26,
   "metadata": {},
   "outputs": [],
   "source": [
    "# d)  Calculate predictions for the training data & build the classification report & confusion matrix. \n",
    "y_pred_rf_train = rnd_clf.predict(X_train)\n",
    "y_pred_proba_rf_train =rnd_clf.predict_proba(X_train)"
   ]
  },
  {
   "cell_type": "code",
   "execution_count": 27,
   "metadata": {},
   "outputs": [
    {
     "data": {
      "text/plain": [
       "array([[45,  0,  0,  0,  0,  0,  0,  0,  0],\n",
       "       [ 0, 97,  0,  0,  0,  0,  0,  0,  0],\n",
       "       [ 0,  0, 21,  0,  0,  0,  0,  0,  0],\n",
       "       [ 0,  0,  0, 93,  0,  0,  0,  0,  0],\n",
       "       [ 0,  0,  0,  0, 83,  0,  0,  0,  0],\n",
       "       [ 0,  0,  0,  0,  0, 14,  0,  0,  0],\n",
       "       [ 0,  0,  0,  0,  0,  0, 45,  0,  0],\n",
       "       [ 0,  0,  0,  0,  0,  0,  0, 20,  0],\n",
       "       [ 0,  0,  0,  0,  0,  0,  0,  0, 89]])"
      ]
     },
     "execution_count": 27,
     "metadata": {},
     "output_type": "execute_result"
    }
   ],
   "source": [
    "# Build the confusion matrix\n",
    "confusion_matrix(y_train, y_pred_rf_train)"
   ]
  },
  {
   "cell_type": "code",
   "execution_count": 28,
   "metadata": {},
   "outputs": [
    {
     "name": "stdout",
     "output_type": "stream",
     "text": [
      "              precision    recall  f1-score   support\n",
      "\n",
      "    asphalt        1.00      1.00      1.00        45\n",
      "   building        1.00      1.00      1.00        97\n",
      "        car        1.00      1.00      1.00        21\n",
      "   concrete        1.00      1.00      1.00        93\n",
      "      grass        1.00      1.00      1.00        83\n",
      "       pool        1.00      1.00      1.00        14\n",
      "     shadow        1.00      1.00      1.00        45\n",
      "       soil        1.00      1.00      1.00        20\n",
      "       tree        1.00      1.00      1.00        89\n",
      "\n",
      "    accuracy                           1.00       507\n",
      "   macro avg       1.00      1.00      1.00       507\n",
      "weighted avg       1.00      1.00      1.00       507\n",
      "\n"
     ]
    }
   ],
   "source": [
    "# Build the classification report\n",
    "from sklearn.metrics import classification_report\n",
    "print(classification_report(y_train, y_pred_rf_train))"
   ]
  },
  {
   "cell_type": "markdown",
   "metadata": {},
   "source": [
    "######  Are there signs of overfitting? Why or why not?\n",
    "The Model is showing a sign of overfitting since the accuracy between training data and testing data are huge. The weighted avg precision on training dataset is 1 while the weighted avg precision on test dataset is 0.85.\n",
    "It shows the low bias and high variance of the model(Overfitting)."
   ]
  },
  {
   "cell_type": "code",
   "execution_count": 30,
   "metadata": {},
   "outputs": [
    {
     "data": {
      "image/png": "[encoded data removed]",
      "text/plain": [
       "<Figure size 2880x1440 with 1 Axes>"
      ]
     },
     "metadata": {
      "needs_background": "light"
     },
     "output_type": "display_data"
    }
   ],
   "source": [
    "# e) Identify the top 5 features. Feel free to print a list OR to make a plot.\n",
    "import matplotlib.pyplot as plt\n",
    "import seaborn as sns\n",
    "feature_imp = pd.DataFrame({'Value':rnd_clf.feature_importances_,'Feature':X_train.columns})\n",
    "plt.figure(figsize=(40, 20))\n",
    "sns.set(font_scale = 3)\n",
    "sns.barplot(x=\"Value\", y=\"Feature\", data=feature_imp.sort_values(by=\"Value\", ascending=False)[0:50])\n",
    "plt.title('RF Features')\n",
    "plt.tight_layout()\n",
    "plt.show()\n",
    "\n",
    "# The top 5 features are NDVI,Mean NIR,Mean R 40,NDVI-60,NDVI-40"
   ]
  },
  {
   "cell_type": "markdown",
   "metadata": {},
   "source": [
    "#### 3. LinearSVM Classifier - Base Model:"
   ]
  },
  {
   "cell_type": "code",
   "execution_count": 31,
   "metadata": {},
   "outputs": [
    {
     "name": "stderr",
     "output_type": "stream",
     "text": [
      "/Users/yangxiang/anaconda3/lib/python3.7/site-packages/sklearn/svm/_base.py:947: ConvergenceWarning: Liblinear failed to converge, increase the number of iterations.\n",
      "  \"the number of iterations.\", ConvergenceWarning)\n"
     ]
    },
    {
     "data": {
      "text/plain": [
       "LinearSVC(C=1.0, class_weight=None, dual=True, fit_intercept=True,\n",
       "          intercept_scaling=1, loss='squared_hinge', max_iter=1000,\n",
       "          multi_class='ovr', penalty='l2', random_state=42, tol=0.0001,\n",
       "          verbose=0)"
      ]
     },
     "execution_count": 31,
     "metadata": {},
     "output_type": "execute_result"
    }
   ],
   "source": [
    "# a) Use the LinearSVC in sklearn. Fit your model on the training data.\n",
    "from sklearn.svm import LinearSVC\n",
    "LinearSVC_clf = LinearSVC(random_state=42)\n",
    "LinearSVC_clf.fit(X_train, y_train)"
   ]
  },
  {
   "cell_type": "code",
   "execution_count": 36,
   "metadata": {},
   "outputs": [],
   "source": [
    "# b) Use the fitted model to predict on test data. Use the .predict() method to get the predicted classes.\n",
    "y_pred_LinearSVC = LinearSVC_clf.predict(X_test)"
   ]
  },
  {
   "cell_type": "code",
   "execution_count": 37,
   "metadata": {},
   "outputs": [
    {
     "data": {
      "text/plain": [
       "array([[ 2,  1,  0,  0, 11,  0,  0,  0,  0],\n",
       "       [ 0, 20,  0,  2,  2,  1,  0,  0,  0],\n",
       "       [ 0,  5,  8,  1,  0,  0,  1,  0,  0],\n",
       "       [ 1,  5,  1,  1, 13,  2,  0,  0,  0],\n",
       "       [ 0,  1,  0,  0, 28,  0,  0,  0,  0],\n",
       "       [ 0,  0,  4,  1,  0, 10,  0,  0,  0],\n",
       "       [ 0,  2,  0,  0,  4,  0, 10,  0,  0],\n",
       "       [ 0,  5,  0,  0,  9,  0,  0,  0,  0],\n",
       "       [ 0,  0,  0,  0,  6,  0,  0,  0, 11]])"
      ]
     },
     "execution_count": 37,
     "metadata": {},
     "output_type": "execute_result"
    }
   ],
   "source": [
    "# c) Calculate the confusion matrix and classification report for test data.\n",
    "from sklearn.metrics import confusion_matrix\n",
    "confusion_matrix(y_test, y_pred_LinearSVC)"
   ]
  },
  {
   "cell_type": "code",
   "execution_count": 40,
   "metadata": {},
   "outputs": [
    {
     "name": "stdout",
     "output_type": "stream",
     "text": [
      "              precision    recall  f1-score   support\n",
      "\n",
      "    asphalt        0.67      0.14      0.24        14\n",
      "   building        0.51      0.80      0.62        25\n",
      "        car        0.62      0.53      0.57        15\n",
      "   concrete        0.20      0.04      0.07        23\n",
      "      grass        0.38      0.97      0.55        29\n",
      "       pool        0.77      0.67      0.71        15\n",
      "     shadow        0.91      0.62      0.74        16\n",
      "       soil        0.00      0.00      0.00        14\n",
      "       tree        1.00      0.65      0.79        17\n",
      "\n",
      "    accuracy                           0.54       168\n",
      "   macro avg       0.56      0.49      0.48       168\n",
      "weighted avg       0.54      0.54      0.48       168\n",
      "\n"
     ]
    },
    {
     "name": "stderr",
     "output_type": "stream",
     "text": [
      "/Users/yangxiang/anaconda3/lib/python3.7/site-packages/sklearn/metrics/_classification.py:1272: UndefinedMetricWarning: Precision and F-score are ill-defined and being set to 0.0 in labels with no predicted samples. Use `zero_division` parameter to control this behavior.\n",
      "  _warn_prf(average, modifier, msg_start, len(result))\n"
     ]
    }
   ],
   "source": [
    "# Build the classification report\n",
    "from sklearn.metrics import classification_report\n",
    "print(classification_report(y_test, y_pred_LinearSVC))"
   ]
  },
  {
   "cell_type": "code",
   "execution_count": 38,
   "metadata": {},
   "outputs": [],
   "source": [
    "# d)  Calculate predictions for the training data & build the classification report & confusion matrix. \n",
    "y_pred_LinearSVC_train = LinearSVC_clf.predict(X_train)"
   ]
  },
  {
   "cell_type": "code",
   "execution_count": 39,
   "metadata": {},
   "outputs": [
    {
     "data": {
      "text/plain": [
       "array([[10,  4,  0,  0, 29,  0,  2,  0,  0],\n",
       "       [ 0, 77,  0,  2, 11,  7,  0,  0,  0],\n",
       "       [ 0,  2, 17,  0,  2,  0,  0,  0,  0],\n",
       "       [ 0, 14,  0, 16, 60,  3,  0,  0,  0],\n",
       "       [ 0,  0,  0,  0, 80,  0,  0,  0,  3],\n",
       "       [ 0,  1,  0,  0,  1, 12,  0,  0,  0],\n",
       "       [ 0,  4,  0,  0, 21,  0, 20,  0,  0],\n",
       "       [ 0,  5,  0,  0, 15,  0,  0,  0,  0],\n",
       "       [ 0,  0,  0,  0, 39,  0,  0,  0, 50]])"
      ]
     },
     "execution_count": 39,
     "metadata": {},
     "output_type": "execute_result"
    }
   ],
   "source": [
    "# Build the confusion matrix\n",
    "confusion_matrix(y_train, y_pred_LinearSVC_train)"
   ]
  },
  {
   "cell_type": "code",
   "execution_count": 41,
   "metadata": {},
   "outputs": [
    {
     "name": "stdout",
     "output_type": "stream",
     "text": [
      "              precision    recall  f1-score   support\n",
      "\n",
      "    asphalt        1.00      0.22      0.36        45\n",
      "   building        0.72      0.79      0.75        97\n",
      "        car        1.00      0.81      0.89        21\n",
      "   concrete        0.89      0.17      0.29        93\n",
      "      grass        0.31      0.96      0.47        83\n",
      "       pool        0.55      0.86      0.67        14\n",
      "     shadow        0.91      0.44      0.60        45\n",
      "       soil        0.00      0.00      0.00        20\n",
      "       tree        0.94      0.56      0.70        89\n",
      "\n",
      "    accuracy                           0.56       507\n",
      "   macro avg       0.70      0.54      0.53       507\n",
      "weighted avg       0.74      0.56      0.54       507\n",
      "\n"
     ]
    }
   ],
   "source": [
    "# Build the classification report\n",
    "from sklearn.metrics import classification_report\n",
    "print(classification_report(y_train, y_pred_LinearSVC_train))"
   ]
  },
  {
   "cell_type": "markdown",
   "metadata": {},
   "source": [
    "######  Are there signs of overfitting? Why or why not?\n",
    "The Model is showing a sign of overfitting since the accuracy between training data and testing data are huge. The weighted avg precision on training dataset is 0.70 while the weighted avg precision on test dataset is 0.54.\n",
    "It shows the low bias and high variance of the model(Overfitting).\n",
    "But in the real life I will not consider this model since the accuray rate is way too low."
   ]
  },
  {
   "cell_type": "markdown",
   "metadata": {},
   "source": [
    "#### 4. Support Vector Machine Classifier + Linear Kernel + Grid Search:"
   ]
  },
  {
   "cell_type": "code",
   "execution_count": 184,
   "metadata": {},
   "outputs": [],
   "source": [
    "import numpy as np"
   ]
  },
  {
   "cell_type": "code",
   "execution_count": 185,
   "metadata": {},
   "outputs": [
    {
     "data": {
      "text/plain": [
       "GridSearchCV(cv=5, error_score=nan,\n",
       "             estimator=SVC(C=1.0, break_ties=False, cache_size=200,\n",
       "                           class_weight=None, coef0=0.0,\n",
       "                           decision_function_shape='ovr', degree=3,\n",
       "                           gamma='scale', kernel='linear', max_iter=-1,\n",
       "                           probability=False, random_state=None, shrinking=True,\n",
       "                           tol=0.001, verbose=False),\n",
       "             iid='deprecated', n_jobs=-1,\n",
       "             param_grid={'C': [0.01, 0.21000000000000002, 0.41000000000000003,\n",
       "                               0.6100000000000001, 0.81, 1.01,\n",
       "                               1.2100000000000002, 1.4100000000000001, 1.61,\n",
       "                               1.81, 2.01, 2.21, 2.41, 2.61, 2.81, 3.01, 3.21,\n",
       "                               3.41, 3.61, 3.81, 4.01, 4.21, 4.41, 4.61,\n",
       "                               4.8100000000000005, 5.01, 5.21, 5.41, 5.61,\n",
       "                               5.8100000000000005, ...]},\n",
       "             pre_dispatch='2*n_jobs', refit=True, return_train_score=False,\n",
       "             scoring=None, verbose=0)"
      ]
     },
     "execution_count": 185,
     "metadata": {},
     "output_type": "execute_result"
    }
   ],
   "source": [
    "# a) Use SVC from sklearn with kernel = \"linear\". Run the GridSearchCV using the following (SVMs run much faster than RandomForest):\n",
    "from sklearn.model_selection import GridSearchCV\n",
    "from sklearn.svm import SVC\n",
    "#create a dictionary of parameters \n",
    "param_grid = {'C':list(np.arange(start=0.01, stop=10, step=0.2))}\n",
    "\n",
    "# create SVM model \n",
    "SVM_L_obj=SVC(kernel='linear')\n",
    "\n",
    "# Create gridsearch object with various combinations of parameters\n",
    "SVM_L_Grid = GridSearchCV(SVM_L_obj, param_grid, cv = 5,n_jobs=-1, verbose = 0)\n",
    "# Fit the GridSearch\n",
    "SVM_L_Grid.fit(X_train,y_train)"
   ]
  },
  {
   "cell_type": "code",
   "execution_count": 186,
   "metadata": {},
   "outputs": [],
   "source": [
    "# b) Identify the best performing model:\n",
    "SVM_L_Grid.best_params_\n",
    "best_model_SVM_L=SVM_L_Grid.best_estimator_"
   ]
  },
  {
   "cell_type": "code",
   "execution_count": 187,
   "metadata": {},
   "outputs": [],
   "source": [
    "# c) Use the best estimator model to predict on test data. Use the .predict() method to get the predicted classes.\n",
    "y_pred_SVM_L_Grid = best_model_SVM_L.predict(X_test)"
   ]
  },
  {
   "cell_type": "code",
   "execution_count": 188,
   "metadata": {},
   "outputs": [
    {
     "data": {
      "text/plain": [
       "array([[13,  0,  0,  0,  0,  0,  1,  0,  0],\n",
       "       [ 0, 22,  0,  2,  1,  0,  0,  0,  0],\n",
       "       [ 0,  1, 14,  0,  0,  0,  0,  0,  0],\n",
       "       [ 0,  3,  0, 19,  0,  0,  0,  1,  0],\n",
       "       [ 0,  0,  0,  1, 25,  0,  0,  0,  3],\n",
       "       [ 0,  1,  0,  0,  0, 13,  1,  0,  0],\n",
       "       [ 3,  0,  0,  0,  0,  0, 13,  0,  0],\n",
       "       [ 0,  1,  0,  6,  3,  0,  0,  4,  0],\n",
       "       [ 0,  0,  0,  1,  0,  0,  0,  0, 16]])"
      ]
     },
     "execution_count": 188,
     "metadata": {},
     "output_type": "execute_result"
    }
   ],
   "source": [
    "# d) Calculate the confusion matrix and classification report for test data.\n",
    "from sklearn.metrics import confusion_matrix\n",
    "confusion_matrix(y_test, y_pred_SVM_L_Grid)"
   ]
  },
  {
   "cell_type": "code",
   "execution_count": 189,
   "metadata": {},
   "outputs": [
    {
     "name": "stdout",
     "output_type": "stream",
     "text": [
      "              precision    recall  f1-score   support\n",
      "\n",
      "    asphalt        0.81      0.93      0.87        14\n",
      "   building        0.79      0.88      0.83        25\n",
      "        car        1.00      0.93      0.97        15\n",
      "   concrete        0.66      0.83      0.73        23\n",
      "      grass        0.86      0.86      0.86        29\n",
      "       pool        1.00      0.87      0.93        15\n",
      "     shadow        0.87      0.81      0.84        16\n",
      "       soil        0.80      0.29      0.42        14\n",
      "       tree        0.84      0.94      0.89        17\n",
      "\n",
      "    accuracy                           0.83       168\n",
      "   macro avg       0.85      0.82      0.81       168\n",
      "weighted avg       0.84      0.83      0.82       168\n",
      "\n"
     ]
    }
   ],
   "source": [
    "# Build the classification report\n",
    "from sklearn.metrics import classification_report\n",
    "print(classification_report(y_test, y_pred_SVM_L_Grid))"
   ]
  },
  {
   "cell_type": "code",
   "execution_count": 190,
   "metadata": {},
   "outputs": [],
   "source": [
    "# e)  Calculate predictions for the training data & build the classification report & confusion matrix.\n",
    "y_pred_SVM_L_Grid_train = best_model_SVM_L.predict(X_train)"
   ]
  },
  {
   "cell_type": "code",
   "execution_count": 191,
   "metadata": {},
   "outputs": [
    {
     "data": {
      "text/plain": [
       "array([[40,  0,  0,  0,  0,  0,  5,  0,  0],\n",
       "       [ 2, 87,  0,  7,  0,  0,  1,  0,  0],\n",
       "       [ 0,  1, 19,  1,  0,  0,  0,  0,  0],\n",
       "       [ 0,  9,  0, 83,  1,  0,  0,  0,  0],\n",
       "       [ 0,  1,  0,  0, 70,  0,  0,  0, 12],\n",
       "       [ 0,  1,  0,  0,  1, 12,  0,  0,  0],\n",
       "       [ 1,  0,  0,  0,  0,  0, 43,  0,  1],\n",
       "       [ 0,  3,  0,  4,  2,  0,  0, 11,  0],\n",
       "       [ 0,  0,  0,  0,  3,  0,  1,  0, 85]])"
      ]
     },
     "execution_count": 191,
     "metadata": {},
     "output_type": "execute_result"
    }
   ],
   "source": [
    "# Build the confusion matrix\n",
    "confusion_matrix(y_train, y_pred_SVM_L_Grid_train)"
   ]
  },
  {
   "cell_type": "code",
   "execution_count": 192,
   "metadata": {},
   "outputs": [
    {
     "name": "stdout",
     "output_type": "stream",
     "text": [
      "              precision    recall  f1-score   support\n",
      "\n",
      "    asphalt        0.93      0.89      0.91        45\n",
      "   building        0.85      0.90      0.87        97\n",
      "        car        1.00      0.90      0.95        21\n",
      "   concrete        0.87      0.89      0.88        93\n",
      "      grass        0.91      0.84      0.88        83\n",
      "       pool        1.00      0.86      0.92        14\n",
      "     shadow        0.86      0.96      0.91        45\n",
      "       soil        1.00      0.55      0.71        20\n",
      "       tree        0.87      0.96      0.91        89\n",
      "\n",
      "    accuracy                           0.89       507\n",
      "   macro avg       0.92      0.86      0.88       507\n",
      "weighted avg       0.89      0.89      0.89       507\n",
      "\n"
     ]
    }
   ],
   "source": [
    "# Build the classification report\n",
    "from sklearn.metrics import classification_report\n",
    "print(classification_report(y_train, y_pred_SVM_L_Grid_train))"
   ]
  },
  {
   "cell_type": "markdown",
   "metadata": {},
   "source": [
    "######  Are there signs of overfitting? Why or why not?\n",
    "No, the result after the grid search does not shows a sign of overfitting.\n",
    "The weighted avg accuracy for training is 0.89 while the weighted avg accuracy for testing is 0.84. The gap is reltively small, it does not shows a trend/sign of overfitting since we see a small drop after apply model on testing dataset. "
   ]
  },
  {
   "cell_type": "markdown",
   "metadata": {},
   "source": [
    "#### 5. Support Vector Machine Classifier + Polynomial Kernel + Grid Search:"
   ]
  },
  {
   "cell_type": "code",
   "execution_count": 193,
   "metadata": {},
   "outputs": [
    {
     "data": {
      "text/plain": [
       "GridSearchCV(cv=5, error_score=nan,\n",
       "             estimator=SVC(C=1.0, break_ties=False, cache_size=200,\n",
       "                           class_weight=None, coef0=0.0,\n",
       "                           decision_function_shape='ovr', degree=3,\n",
       "                           gamma='scale', kernel='poly', max_iter=-1,\n",
       "                           probability=False, random_state=42, shrinking=True,\n",
       "                           tol=0.001, verbose=False),\n",
       "             iid='deprecated', n_jobs=-1,\n",
       "             param_grid={'C': [0.01, 0.21000000000000002, 0.41000000000000003,\n",
       "                               0.6100000000000001, 0.81, 1.01,\n",
       "                               1.2100000000000002, 1.4100000000000001, 1.61,\n",
       "                               1.81, 2.01, 2.21, 2.41, 2.61, 2.81, 3.01, 3.21,\n",
       "                               3.41, 3.61, 3.81, 4.01, 4.21, 4.41, 4.61,\n",
       "                               4.8100000000000005, 5.01, 5.21, 5.41, 5.61,\n",
       "                               5.8100000000000005, ...],\n",
       "                         'degree': [2, 3, 4, 5, 6]},\n",
       "             pre_dispatch='2*n_jobs', refit=True, return_train_score=False,\n",
       "             scoring=None, verbose=0)"
      ]
     },
     "execution_count": 193,
     "metadata": {},
     "output_type": "execute_result"
    }
   ],
   "source": [
    "# a) Use SVC from sklearn with kernel = \"poly\". Run the GridSearchCV\n",
    "from sklearn.model_selection import GridSearchCV\n",
    "from sklearn.svm import SVC\n",
    "#create a dictionary of parameters \n",
    "param_grid = {'C':list(np.arange(start=0.01, stop=10, step=0.2)),'degree':[2,3,4,5,6]}\n",
    "\n",
    "# create SVM model \n",
    "SVM_P_obj=SVC(kernel='poly',random_state=42)\n",
    "\n",
    "# Create gridsearch object with various combinations of parameters\n",
    "SVM_P_Grid = GridSearchCV(SVM_P_obj, param_grid, cv = 5,n_jobs=-1, verbose = 0,)\n",
    "# Fit the GridSearch\n",
    "SVM_P_Grid.fit(X_train,y_train)"
   ]
  },
  {
   "cell_type": "code",
   "execution_count": 194,
   "metadata": {},
   "outputs": [],
   "source": [
    "# b) Identify the best performing model:\n",
    "best_model_SVM_P=SVM_P_Grid.best_estimator_"
   ]
  },
  {
   "cell_type": "code",
   "execution_count": 195,
   "metadata": {},
   "outputs": [
    {
     "data": {
      "text/plain": [
       "SVC(C=3.81, break_ties=False, cache_size=200, class_weight=None, coef0=0.0,\n",
       "    decision_function_shape='ovr', degree=3, gamma='scale', kernel='poly',\n",
       "    max_iter=-1, probability=False, random_state=42, shrinking=True, tol=0.001,\n",
       "    verbose=False)"
      ]
     },
     "execution_count": 195,
     "metadata": {},
     "output_type": "execute_result"
    }
   ],
   "source": [
    "best_model_SVM_P"
   ]
  },
  {
   "cell_type": "code",
   "execution_count": 196,
   "metadata": {},
   "outputs": [
    {
     "data": {
      "text/plain": [
       "{'C': 3.81, 'degree': 3}"
      ]
     },
     "execution_count": 196,
     "metadata": {},
     "output_type": "execute_result"
    }
   ],
   "source": [
    "SVM_P_Grid.best_params_"
   ]
  },
  {
   "cell_type": "code",
   "execution_count": 197,
   "metadata": {},
   "outputs": [],
   "source": [
    "# c) Use the best estimator model to predict on test data. Use the .predict() method to get the predicted classes.\n",
    "y_pred_SVM_P_Grid = best_model_SVM_P.predict(X_test)"
   ]
  },
  {
   "cell_type": "code",
   "execution_count": 198,
   "metadata": {},
   "outputs": [
    {
     "data": {
      "text/plain": [
       "array([[13,  0,  0,  0,  0,  0,  1,  0,  0],\n",
       "       [ 0, 18,  0,  4,  3,  0,  0,  0,  0],\n",
       "       [ 0,  2, 11,  0,  0,  1,  0,  1,  0],\n",
       "       [ 0,  3,  0, 19,  1,  0,  0,  0,  0],\n",
       "       [ 0,  0,  0,  0, 26,  0,  0,  1,  2],\n",
       "       [ 0,  4,  0,  0,  0, 10,  1,  0,  0],\n",
       "       [ 1,  0,  0,  0,  0,  0, 14,  0,  1],\n",
       "       [ 0,  1,  0,  5,  8,  0,  0,  0,  0],\n",
       "       [ 0,  0,  0,  1,  3,  0,  0,  0, 13]])"
      ]
     },
     "execution_count": 198,
     "metadata": {},
     "output_type": "execute_result"
    }
   ],
   "source": [
    "# d) Calculate the confusion matrix and classification report for test data.\n",
    "from sklearn.metrics import confusion_matrix\n",
    "confusion_matrix(y_test, y_pred_SVM_P_Grid)"
   ]
  },
  {
   "cell_type": "code",
   "execution_count": 199,
   "metadata": {},
   "outputs": [
    {
     "name": "stdout",
     "output_type": "stream",
     "text": [
      "              precision    recall  f1-score   support\n",
      "\n",
      "    asphalt        0.93      0.93      0.93        14\n",
      "   building        0.64      0.72      0.68        25\n",
      "        car        1.00      0.73      0.85        15\n",
      "   concrete        0.66      0.83      0.73        23\n",
      "      grass        0.63      0.90      0.74        29\n",
      "       pool        0.91      0.67      0.77        15\n",
      "     shadow        0.88      0.88      0.88        16\n",
      "       soil        0.00      0.00      0.00        14\n",
      "       tree        0.81      0.76      0.79        17\n",
      "\n",
      "    accuracy                           0.74       168\n",
      "   macro avg       0.72      0.71      0.71       168\n",
      "weighted avg       0.71      0.74      0.71       168\n",
      "\n"
     ]
    }
   ],
   "source": [
    "# Build the classification report\n",
    "from sklearn.metrics import classification_report\n",
    "print(classification_report(y_test, y_pred_SVM_P_Grid))"
   ]
  },
  {
   "cell_type": "code",
   "execution_count": 200,
   "metadata": {},
   "outputs": [],
   "source": [
    "# e)  Calculate predictions for the training data & build the classification report & confusion matrix.\n",
    "y_pred_SVM_P_Grid_train = best_model_SVM_P.predict(X_train)"
   ]
  },
  {
   "cell_type": "code",
   "execution_count": 201,
   "metadata": {},
   "outputs": [
    {
     "data": {
      "text/plain": [
       "array([[44,  0,  0,  0,  1,  0,  0,  0,  0],\n",
       "       [ 0, 95,  0,  1,  1,  0,  0,  0,  0],\n",
       "       [ 0,  0, 20,  0,  1,  0,  0,  0,  0],\n",
       "       [ 0,  1,  0, 91,  1,  0,  0,  0,  0],\n",
       "       [ 0,  1,  0,  0, 81,  0,  0,  0,  1],\n",
       "       [ 0,  0,  0,  0,  1, 13,  0,  0,  0],\n",
       "       [ 0,  0,  0,  0,  0,  0, 45,  0,  0],\n",
       "       [ 0,  0,  0,  0, 11,  0,  0,  9,  0],\n",
       "       [ 0,  0,  0,  0,  5,  0,  0,  0, 84]])"
      ]
     },
     "execution_count": 201,
     "metadata": {},
     "output_type": "execute_result"
    }
   ],
   "source": [
    "# Build the confusion matrix\n",
    "confusion_matrix(y_train, y_pred_SVM_P_Grid_train)"
   ]
  },
  {
   "cell_type": "code",
   "execution_count": 202,
   "metadata": {},
   "outputs": [
    {
     "name": "stdout",
     "output_type": "stream",
     "text": [
      "              precision    recall  f1-score   support\n",
      "\n",
      "    asphalt        1.00      0.98      0.99        45\n",
      "   building        0.98      0.98      0.98        97\n",
      "        car        1.00      0.95      0.98        21\n",
      "   concrete        0.99      0.98      0.98        93\n",
      "      grass        0.79      0.98      0.88        83\n",
      "       pool        1.00      0.93      0.96        14\n",
      "     shadow        1.00      1.00      1.00        45\n",
      "       soil        1.00      0.45      0.62        20\n",
      "       tree        0.99      0.94      0.97        89\n",
      "\n",
      "    accuracy                           0.95       507\n",
      "   macro avg       0.97      0.91      0.93       507\n",
      "weighted avg       0.96      0.95      0.95       507\n",
      "\n"
     ]
    }
   ],
   "source": [
    "# Build the classification report\n",
    "from sklearn.metrics import classification_report\n",
    "print(classification_report(y_train, y_pred_SVM_P_Grid_train))"
   ]
  },
  {
   "cell_type": "markdown",
   "metadata": {},
   "source": [
    "######  Are there signs of overfitting? Why or why not?\n",
    "Yes, the result after the grid search shows a sign of overfitting.\n",
    "The weighted avg accuracy for training is 0.96  while yhe weighted avg accuracy for testing is  0.71. The gap is pretty big, it show a trend/sign of overfitting since we see a big drop after apply model on testing dataset. "
   ]
  },
  {
   "cell_type": "markdown",
   "metadata": {},
   "source": [
    "#### 6. Support Vector Machine Classifier + RBF Kernel + Grid Search:"
   ]
  },
  {
   "cell_type": "code",
   "execution_count": 203,
   "metadata": {},
   "outputs": [
    {
     "data": {
      "text/plain": [
       "GridSearchCV(cv=5, error_score=nan,\n",
       "             estimator=SVC(C=1.0, break_ties=False, cache_size=200,\n",
       "                           class_weight=None, coef0=0.0,\n",
       "                           decision_function_shape='ovr', degree=3,\n",
       "                           gamma='scale', kernel='rbf', max_iter=-1,\n",
       "                           probability=False, random_state=None, shrinking=True,\n",
       "                           tol=0.001, verbose=False),\n",
       "             iid='deprecated', n_jobs=-1,\n",
       "             param_grid={'C': [0.01, 0.21000000000000002, 0.41000000000000003,\n",
       "                               0.6100000000000001, 0.81, 1.01,\n",
       "                               1.2100000000000002, 1.4100000000000001, 1.61,\n",
       "                               1.81, 2.01, 2.21, 2.41, 2.61, 2.81, 3.01, 3.21,\n",
       "                               3.41, 3.61, 3.81, 4.01, 4.21, 4.41, 4.61,\n",
       "                               4.8100000000000005, 5.01, 5.21, 5.41, 5.61,\n",
       "                               5.8100000000000005, ...],\n",
       "                         'gamma': [0.01, 0.1, 1, 10, 100]},\n",
       "             pre_dispatch='2*n_jobs', refit=True, return_train_score=False,\n",
       "             scoring=None, verbose=0)"
      ]
     },
     "execution_count": 203,
     "metadata": {},
     "output_type": "execute_result"
    }
   ],
   "source": [
    "# a) Use SVC from sklearn with kernel = \"rbf\". Run the GridSearchCV\n",
    "from sklearn.model_selection import GridSearchCV\n",
    "from sklearn.svm import SVC\n",
    "#create a dictionary of parameters \n",
    "param_grid1 = {'C':list(np.arange(start=0.01, stop=10, step=0.2)),'gamma':[0.01,  0.1, 1, 10, 100]}\n",
    "\n",
    "# create SVM model \n",
    "SVM_rbf_obj=SVC(kernel='rbf')\n",
    "\n",
    "# Create gridsearch object with various combinations of parameters\n",
    "SVM_rbf_Grid = GridSearchCV(SVM_rbf_obj, param_grid1, cv = 5,n_jobs=-1, verbose = 0)\n",
    "# Fit the GridSearch\n",
    "SVM_rbf_Grid.fit(X_train,y_train)"
   ]
  },
  {
   "cell_type": "code",
   "execution_count": 204,
   "metadata": {},
   "outputs": [],
   "source": [
    "# b) Identify the best performing model:\n",
    "best_model_SVM_rbf=SVM_rbf_Grid.best_estimator_"
   ]
  },
  {
   "cell_type": "code",
   "execution_count": 205,
   "metadata": {},
   "outputs": [
    {
     "data": {
      "text/plain": [
       "SVC(C=2.81, break_ties=False, cache_size=200, class_weight=None, coef0=0.0,\n",
       "    decision_function_shape='ovr', degree=3, gamma=0.01, kernel='rbf',\n",
       "    max_iter=-1, probability=False, random_state=None, shrinking=True,\n",
       "    tol=0.001, verbose=False)"
      ]
     },
     "execution_count": 205,
     "metadata": {},
     "output_type": "execute_result"
    }
   ],
   "source": [
    "best_model_SVM_rbf"
   ]
  },
  {
   "cell_type": "code",
   "execution_count": 210,
   "metadata": {},
   "outputs": [
    {
     "data": {
      "text/plain": [
       "{'C': 2.81, 'gamma': 0.01}"
      ]
     },
     "execution_count": 210,
     "metadata": {},
     "output_type": "execute_result"
    }
   ],
   "source": [
    "SVM_rbf_Grid.best_params_"
   ]
  },
  {
   "cell_type": "code",
   "execution_count": 211,
   "metadata": {},
   "outputs": [],
   "source": [
    "# c) Use the best estimator model to predict on test data. Use the .predict() method to get the predicted classes.\n",
    "y_pred_SVM_rbf_Grid = best_model_SVM_rbf.predict(X_test)"
   ]
  },
  {
   "cell_type": "code",
   "execution_count": 212,
   "metadata": {},
   "outputs": [
    {
     "data": {
      "text/plain": [
       "array([[13,  0,  0,  0,  0,  0,  1,  0,  0],\n",
       "       [ 0, 19,  0,  5,  1,  0,  0,  0,  0],\n",
       "       [ 0,  0, 14,  1,  0,  0,  0,  0,  0],\n",
       "       [ 0,  3,  0, 20,  0,  0,  0,  0,  0],\n",
       "       [ 0,  1,  0,  0, 24,  0,  0,  0,  4],\n",
       "       [ 0,  0,  0,  0,  0, 14,  1,  0,  0],\n",
       "       [ 1,  0,  0,  1,  0,  0, 14,  0,  0],\n",
       "       [ 0,  1,  0,  5,  3,  0,  0,  5,  0],\n",
       "       [ 0,  0,  0,  1,  0,  0,  0,  0, 16]])"
      ]
     },
     "execution_count": 212,
     "metadata": {},
     "output_type": "execute_result"
    }
   ],
   "source": [
    "# d) Calculate the confusion matrix and classification report for test data.\n",
    "from sklearn.metrics import confusion_matrix\n",
    "confusion_matrix(y_test, y_pred_SVM_rbf_Grid)"
   ]
  },
  {
   "cell_type": "code",
   "execution_count": 213,
   "metadata": {},
   "outputs": [
    {
     "name": "stdout",
     "output_type": "stream",
     "text": [
      "              precision    recall  f1-score   support\n",
      "\n",
      "    asphalt        0.93      0.93      0.93        14\n",
      "   building        0.79      0.76      0.78        25\n",
      "        car        1.00      0.93      0.97        15\n",
      "   concrete        0.61      0.87      0.71        23\n",
      "      grass        0.86      0.83      0.84        29\n",
      "       pool        1.00      0.93      0.97        15\n",
      "     shadow        0.88      0.88      0.88        16\n",
      "       soil        1.00      0.36      0.53        14\n",
      "       tree        0.80      0.94      0.86        17\n",
      "\n",
      "    accuracy                           0.83       168\n",
      "   macro avg       0.87      0.83      0.83       168\n",
      "weighted avg       0.85      0.83      0.82       168\n",
      "\n"
     ]
    }
   ],
   "source": [
    "# Build the classification report\n",
    "from sklearn.metrics import classification_report\n",
    "print(classification_report(y_test, y_pred_SVM_rbf_Grid))"
   ]
  },
  {
   "cell_type": "code",
   "execution_count": 214,
   "metadata": {},
   "outputs": [],
   "source": [
    "# e)  Calculate predictions for the training data & build the classification report & confusion matrix.\n",
    "y_pred_SVM_rbf_Grid_train = best_model_SVM_rbf.predict(X_train)"
   ]
  },
  {
   "cell_type": "code",
   "execution_count": 215,
   "metadata": {},
   "outputs": [
    {
     "data": {
      "text/plain": [
       "array([[45,  0,  0,  0,  0,  0,  0,  0,  0],\n",
       "       [ 0, 96,  0,  1,  0,  0,  0,  0,  0],\n",
       "       [ 0,  0, 21,  0,  0,  0,  0,  0,  0],\n",
       "       [ 0,  1,  0, 92,  0,  0,  0,  0,  0],\n",
       "       [ 0,  1,  0,  0, 81,  0,  0,  0,  1],\n",
       "       [ 0,  0,  0,  0,  0, 14,  0,  0,  0],\n",
       "       [ 0,  0,  0,  0,  0,  0, 45,  0,  0],\n",
       "       [ 0,  1,  0,  0,  0,  0,  0, 19,  0],\n",
       "       [ 0,  0,  0,  0,  1,  0,  0,  0, 88]])"
      ]
     },
     "execution_count": 215,
     "metadata": {},
     "output_type": "execute_result"
    }
   ],
   "source": [
    "# Build the confusion matrix\n",
    "confusion_matrix(y_train, y_pred_SVM_rbf_Grid_train)"
   ]
  },
  {
   "cell_type": "code",
   "execution_count": 216,
   "metadata": {},
   "outputs": [
    {
     "name": "stdout",
     "output_type": "stream",
     "text": [
      "              precision    recall  f1-score   support\n",
      "\n",
      "    asphalt        1.00      1.00      1.00        45\n",
      "   building        0.97      0.99      0.98        97\n",
      "        car        1.00      1.00      1.00        21\n",
      "   concrete        0.99      0.99      0.99        93\n",
      "      grass        0.99      0.98      0.98        83\n",
      "       pool        1.00      1.00      1.00        14\n",
      "     shadow        1.00      1.00      1.00        45\n",
      "       soil        1.00      0.95      0.97        20\n",
      "       tree        0.99      0.99      0.99        89\n",
      "\n",
      "    accuracy                           0.99       507\n",
      "   macro avg       0.99      0.99      0.99       507\n",
      "weighted avg       0.99      0.99      0.99       507\n",
      "\n"
     ]
    }
   ],
   "source": [
    "# Build the classification report\n",
    "from sklearn.metrics import classification_report\n",
    "print(classification_report(y_train, y_pred_SVM_rbf_Grid_train))"
   ]
  },
  {
   "cell_type": "markdown",
   "metadata": {},
   "source": [
    "######  Are there signs of overfitting? Why or why not?\n",
    "The weighted avg accuracy for training is 0.99 while the weighted avg accuracy for testing is  0.85. The gap is quite big, it shows a trend/sign of overfitting since we see a big drop after apply model on testing dataset. "
   ]
  },
  {
   "cell_type": "markdown",
   "metadata": {},
   "source": [
    "#### 7. Conceptual Questions:\n",
    "\n",
    "###### a) From the models run in steps 2-6, which performs the best based on the Classification Report? Support your reasoning with evidence around your test data. \n",
    "Support Vector Machine Classifier + Linear Kernel performs the best based on the Classification Report.\n",
    "* The first reason is this model is not overfitting at all.\n",
    "The weighted avg accuracy for training is 0.89 while the weighted avg accuracy for testing is 0.84. The gap is reltively small, it does not shows a trend/sign of overfitting since we see a small drop after apply model on testing dataset. \n",
    "* The secon reason is the speed\n",
    "With the smilmar accuracy, SVM run Much faster than the RF.\n",
    "\n",
    "###### b) Compare models run for steps 4-6 where different kernels were used. What is the benefit of using a polynomial or rbf kernel over a linear kernel? What could be a downside of using a polynomial or rbf kernel? \n",
    "A linear kernel allows you to use linear functions, which are really impoverished. As you increase the order of the polynomial kernel, the size of the function class increases. An n-th order polynomial kernel gives you all analytic functions whose derivatives of order (n+1) are constant, and hence all derivatives of and above order (n+2) are zero. The squared exponential kernel gives you access to all analytic functions (that is all infinitely differentiable functions). So in some sense you can view the SE kernel as being as powerful as an infinite order polynomial kernel. The polynomial or rbf kernel is generally more flexible than the linear kernels.\n",
    "\n",
    "using a polynomial or rbf kernel will be more time consuming, so it is generally more useful when we are dealing with feature over 1000, such as text classification.\n",
    "\n",
    "\n",
    "\n",
    "###### c) Explain the 'C' parameter used in steps 4-6. What does a small C mean versus a large C in sklearn? Why is it important to use the 'C' parameter when fitting a model? \n",
    "Regularization parameter. The strength of the regularization is inversely proportional to C. Must be strictly positive.\n",
    "\n",
    "The C parameter tells the SVM optimization how much you want to avoid misclassifying each training example. For large values of C, the optimization will choose a smaller-margin hyperplane if that hyperplane does a better job of getting all the training points classified correctly. Conversely, a very small value of C will cause the optimizer to look for a larger-margin separating hyperplane, even if that hyperplane misclassifies more points. For very tiny values of C, you should get misclassified examples, often even if your training data is linearly separable.\n",
    "\n",
    "###### d) Scaling our input data does not matter much for Random Forest, but it is a critical step for Support Vector Machines. Explain why this is such a critical step. Also, provide an example of a feature from this data set that could cause issues with our SVMs if not scaled.\n",
    "Before applying data to SVM, it is important to perform scaling of that data. Main purpose of scaling data before processing is to avoid attributes in greater numeric ranges. Other purpose is to avoid some types of numerical difficulties during calculation. Large attribute values might cause numerical problems.\n",
    "\n",
    "SVM tries to maximize the distance between the separating plane and the support vectors. If one feature (i.e. one dimension in this space) has very large values, it will dominate the other features when calculating the distance. If you rescale all features (e.g. to [0, 1]), they all have the same influence on the distance metric.\n",
    "\n",
    "* Example of a feature from this data set that could cause issues with our SVMs if not scaled:\n",
    "Area feature have a min of 22.000000 and max of 5767.000000 with a huge std 698.655240. If we do not scaled this,the Area feature will dominate the other features when calculating the distance amd cause a big issue.\n",
    "\n",
    "###### e) Describe conceptually what the purpose of a kernel is for Support Vector Machines.\n",
    "SVM algorithms use a set of mathematical functions that are defined as the kernel. The function of kernel is to take data as input and transform it into the required form. \n",
    "The kernel functions return the inner product between two points in a suitable feature space. Thus by defining a notion of similarity, with little computational cost even in very high-dimensional spaces."
   ]
  },
  {
   "cell_type": "code",
   "execution_count": 92,
   "metadata": {},
   "outputs": [
    {
     "data": {
      "text/html": [
       "<div>\n",
       "<style scoped>\n",
       "    .dataframe tbody tr th:only-of-type {\n",
       "        vertical-align: middle;\n",
       "    }\n",
       "\n",
       "    .dataframe tbody tr th {\n",
       "        vertical-align: top;\n",
       "    }\n",
       "\n",
       "    .dataframe thead th {\n",
       "        text-align: right;\n",
       "    }\n",
       "</style>\n",
       "<table border=\"1\" class=\"dataframe\">\n",
       "  <thead>\n",
       "    <tr style=\"text-align: right;\">\n",
       "      <th></th>\n",
       "      <th>BrdIndx</th>\n",
       "      <th>Area</th>\n",
       "      <th>Round</th>\n",
       "      <th>Bright</th>\n",
       "      <th>Compact</th>\n",
       "      <th>ShpIndx</th>\n",
       "      <th>Mean_G</th>\n",
       "      <th>Mean_R</th>\n",
       "      <th>Mean_NIR</th>\n",
       "      <th>SD_G</th>\n",
       "      <th>...</th>\n",
       "      <th>SD_NIR_140</th>\n",
       "      <th>LW_140</th>\n",
       "      <th>GLCM1_140</th>\n",
       "      <th>Rect_140</th>\n",
       "      <th>GLCM2_140</th>\n",
       "      <th>Dens_140</th>\n",
       "      <th>Assym_140</th>\n",
       "      <th>NDVI_140</th>\n",
       "      <th>BordLngth_140</th>\n",
       "      <th>GLCM3_140</th>\n",
       "    </tr>\n",
       "  </thead>\n",
       "  <tbody>\n",
       "    <tr>\n",
       "      <th>count</th>\n",
       "      <td>507.000000</td>\n",
       "      <td>507.000000</td>\n",
       "      <td>507.000000</td>\n",
       "      <td>507.000000</td>\n",
       "      <td>507.000000</td>\n",
       "      <td>507.000000</td>\n",
       "      <td>507.000000</td>\n",
       "      <td>507.000000</td>\n",
       "      <td>507.000000</td>\n",
       "      <td>507.000000</td>\n",
       "      <td>...</td>\n",
       "      <td>507.000000</td>\n",
       "      <td>507.000000</td>\n",
       "      <td>507.000000</td>\n",
       "      <td>507.000000</td>\n",
       "      <td>507.000000</td>\n",
       "      <td>507.000000</td>\n",
       "      <td>507.000000</td>\n",
       "      <td>507.000000</td>\n",
       "      <td>507.000000</td>\n",
       "      <td>507.000000</td>\n",
       "    </tr>\n",
       "    <tr>\n",
       "      <th>mean</th>\n",
       "      <td>2.025720</td>\n",
       "      <td>562.504931</td>\n",
       "      <td>1.237574</td>\n",
       "      <td>165.612939</td>\n",
       "      <td>2.187081</td>\n",
       "      <td>2.277318</td>\n",
       "      <td>166.290355</td>\n",
       "      <td>162.291953</td>\n",
       "      <td>168.256667</td>\n",
       "      <td>10.725227</td>\n",
       "      <td>...</td>\n",
       "      <td>24.601144</td>\n",
       "      <td>2.931657</td>\n",
       "      <td>0.817712</td>\n",
       "      <td>0.597732</td>\n",
       "      <td>8.048698</td>\n",
       "      <td>1.455838</td>\n",
       "      <td>0.653905</td>\n",
       "      <td>0.027436</td>\n",
       "      <td>1398.706114</td>\n",
       "      <td>1101.998185</td>\n",
       "    </tr>\n",
       "    <tr>\n",
       "      <th>std</th>\n",
       "      <td>0.619254</td>\n",
       "      <td>698.655240</td>\n",
       "      <td>0.561988</td>\n",
       "      <td>63.230806</td>\n",
       "      <td>0.874054</td>\n",
       "      <td>0.718441</td>\n",
       "      <td>59.217648</td>\n",
       "      <td>73.455101</td>\n",
       "      <td>69.702475</td>\n",
       "      <td>4.968761</td>\n",
       "      <td>...</td>\n",
       "      <td>12.203441</td>\n",
       "      <td>4.942887</td>\n",
       "      <td>0.106007</td>\n",
       "      <td>0.197505</td>\n",
       "      <td>0.787912</td>\n",
       "      <td>0.451781</td>\n",
       "      <td>0.251287</td>\n",
       "      <td>0.133834</td>\n",
       "      <td>1097.323462</td>\n",
       "      <td>533.927869</td>\n",
       "    </tr>\n",
       "    <tr>\n",
       "      <th>min</th>\n",
       "      <td>1.000000</td>\n",
       "      <td>22.000000</td>\n",
       "      <td>0.000000</td>\n",
       "      <td>26.850000</td>\n",
       "      <td>1.000000</td>\n",
       "      <td>1.040000</td>\n",
       "      <td>22.910000</td>\n",
       "      <td>26.520000</td>\n",
       "      <td>31.110000</td>\n",
       "      <td>3.550000</td>\n",
       "      <td>...</td>\n",
       "      <td>2.650000</td>\n",
       "      <td>1.000000</td>\n",
       "      <td>0.200000</td>\n",
       "      <td>0.100000</td>\n",
       "      <td>5.690000</td>\n",
       "      <td>0.240000</td>\n",
       "      <td>0.030000</td>\n",
       "      <td>-0.360000</td>\n",
       "      <td>34.000000</td>\n",
       "      <td>211.270000</td>\n",
       "    </tr>\n",
       "    <tr>\n",
       "      <th>25%</th>\n",
       "      <td>1.580000</td>\n",
       "      <td>159.000000</td>\n",
       "      <td>0.840000</td>\n",
       "      <td>127.485000</td>\n",
       "      <td>1.650000</td>\n",
       "      <td>1.715000</td>\n",
       "      <td>146.460000</td>\n",
       "      <td>97.585000</td>\n",
       "      <td>111.715000</td>\n",
       "      <td>6.985000</td>\n",
       "      <td>...</td>\n",
       "      <td>14.485000</td>\n",
       "      <td>1.375000</td>\n",
       "      <td>0.770000</td>\n",
       "      <td>0.455000</td>\n",
       "      <td>7.370000</td>\n",
       "      <td>1.160000</td>\n",
       "      <td>0.470000</td>\n",
       "      <td>-0.080000</td>\n",
       "      <td>601.000000</td>\n",
       "      <td>726.745000</td>\n",
       "    </tr>\n",
       "    <tr>\n",
       "      <th>50%</th>\n",
       "      <td>1.950000</td>\n",
       "      <td>323.000000</td>\n",
       "      <td>1.210000</td>\n",
       "      <td>170.650000</td>\n",
       "      <td>2.000000</td>\n",
       "      <td>2.180000</td>\n",
       "      <td>189.630000</td>\n",
       "      <td>158.280000</td>\n",
       "      <td>167.750000</td>\n",
       "      <td>9.290000</td>\n",
       "      <td>...</td>\n",
       "      <td>22.380000</td>\n",
       "      <td>1.920000</td>\n",
       "      <td>0.840000</td>\n",
       "      <td>0.610000</td>\n",
       "      <td>8.020000</td>\n",
       "      <td>1.440000</td>\n",
       "      <td>0.710000</td>\n",
       "      <td>-0.020000</td>\n",
       "      <td>1148.000000</td>\n",
       "      <td>1011.230000</td>\n",
       "    </tr>\n",
       "    <tr>\n",
       "      <th>75%</th>\n",
       "      <td>2.380000</td>\n",
       "      <td>681.500000</td>\n",
       "      <td>1.565000</td>\n",
       "      <td>224.825000</td>\n",
       "      <td>2.490000</td>\n",
       "      <td>2.675000</td>\n",
       "      <td>206.780000</td>\n",
       "      <td>237.375000</td>\n",
       "      <td>238.480000</td>\n",
       "      <td>13.330000</td>\n",
       "      <td>...</td>\n",
       "      <td>33.825000</td>\n",
       "      <td>2.800000</td>\n",
       "      <td>0.890000</td>\n",
       "      <td>0.760000</td>\n",
       "      <td>8.750000</td>\n",
       "      <td>1.775000</td>\n",
       "      <td>0.860000</td>\n",
       "      <td>0.145000</td>\n",
       "      <td>1874.000000</td>\n",
       "      <td>1335.640000</td>\n",
       "    </tr>\n",
       "    <tr>\n",
       "      <th>max</th>\n",
       "      <td>4.530000</td>\n",
       "      <td>5767.000000</td>\n",
       "      <td>3.520000</td>\n",
       "      <td>245.870000</td>\n",
       "      <td>8.070000</td>\n",
       "      <td>5.410000</td>\n",
       "      <td>239.370000</td>\n",
       "      <td>253.610000</td>\n",
       "      <td>253.630000</td>\n",
       "      <td>30.870000</td>\n",
       "      <td>...</td>\n",
       "      <td>61.340000</td>\n",
       "      <td>64.700000</td>\n",
       "      <td>0.970000</td>\n",
       "      <td>1.000000</td>\n",
       "      <td>9.570000</td>\n",
       "      <td>2.410000</td>\n",
       "      <td>1.000000</td>\n",
       "      <td>0.370000</td>\n",
       "      <td>8896.000000</td>\n",
       "      <td>3619.280000</td>\n",
       "    </tr>\n",
       "  </tbody>\n",
       "</table>\n",
       "<p>8 rows × 147 columns</p>\n",
       "</div>"
      ],
      "text/plain": [
       "          BrdIndx         Area       Round      Bright     Compact  \\\n",
       "count  507.000000   507.000000  507.000000  507.000000  507.000000   \n",
       "mean     2.025720   562.504931    1.237574  165.612939    2.187081   \n",
       "std      0.619254   698.655240    0.561988   63.230806    0.874054   \n",
       "min      1.000000    22.000000    0.000000   26.850000    1.000000   \n",
       "25%      1.580000   159.000000    0.840000  127.485000    1.650000   \n",
       "50%      1.950000   323.000000    1.210000  170.650000    2.000000   \n",
       "75%      2.380000   681.500000    1.565000  224.825000    2.490000   \n",
       "max      4.530000  5767.000000    3.520000  245.870000    8.070000   \n",
       "\n",
       "          ShpIndx      Mean_G      Mean_R    Mean_NIR        SD_G  ...  \\\n",
       "count  507.000000  507.000000  507.000000  507.000000  507.000000  ...   \n",
       "mean     2.277318  166.290355  162.291953  168.256667   10.725227  ...   \n",
       "std      0.718441   59.217648   73.455101   69.702475    4.968761  ...   \n",
       "min      1.040000   22.910000   26.520000   31.110000    3.550000  ...   \n",
       "25%      1.715000  146.460000   97.585000  111.715000    6.985000  ...   \n",
       "50%      2.180000  189.630000  158.280000  167.750000    9.290000  ...   \n",
       "75%      2.675000  206.780000  237.375000  238.480000   13.330000  ...   \n",
       "max      5.410000  239.370000  253.610000  253.630000   30.870000  ...   \n",
       "\n",
       "       SD_NIR_140      LW_140   GLCM1_140    Rect_140   GLCM2_140    Dens_140  \\\n",
       "count  507.000000  507.000000  507.000000  507.000000  507.000000  507.000000   \n",
       "mean    24.601144    2.931657    0.817712    0.597732    8.048698    1.455838   \n",
       "std     12.203441    4.942887    0.106007    0.197505    0.787912    0.451781   \n",
       "min      2.650000    1.000000    0.200000    0.100000    5.690000    0.240000   \n",
       "25%     14.485000    1.375000    0.770000    0.455000    7.370000    1.160000   \n",
       "50%     22.380000    1.920000    0.840000    0.610000    8.020000    1.440000   \n",
       "75%     33.825000    2.800000    0.890000    0.760000    8.750000    1.775000   \n",
       "max     61.340000   64.700000    0.970000    1.000000    9.570000    2.410000   \n",
       "\n",
       "        Assym_140    NDVI_140  BordLngth_140    GLCM3_140  \n",
       "count  507.000000  507.000000     507.000000   507.000000  \n",
       "mean     0.653905    0.027436    1398.706114  1101.998185  \n",
       "std      0.251287    0.133834    1097.323462   533.927869  \n",
       "min      0.030000   -0.360000      34.000000   211.270000  \n",
       "25%      0.470000   -0.080000     601.000000   726.745000  \n",
       "50%      0.710000   -0.020000    1148.000000  1011.230000  \n",
       "75%      0.860000    0.145000    1874.000000  1335.640000  \n",
       "max      1.000000    0.370000    8896.000000  3619.280000  \n",
       "\n",
       "[8 rows x 147 columns]"
      ]
     },
     "execution_count": 92,
     "metadata": {},
     "output_type": "execute_result"
    }
   ],
   "source": [
    "Train.describe()"
   ]
  }
 ],
 "metadata": {
  "kernelspec": {
   "display_name": "Python 3",
   "language": "python",
   "name": "python3"
  },
  "language_info": {
   "codemirror_mode": {
    "name": "ipython",
    "version": 3
   },
   "file_extension": ".py",
   "mimetype": "text/x-python",
   "name": "python",
   "nbconvert_exporter": "python",
   "pygments_lexer": "ipython3",
   "version": "3.7.3"
  }
 },
 "nbformat": 4,
 "nbformat_minor": 2
}

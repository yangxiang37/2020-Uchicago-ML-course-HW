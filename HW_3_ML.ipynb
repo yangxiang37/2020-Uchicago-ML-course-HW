{
 "cells": [
  {
   "cell_type": "code",
   "execution_count": 1,
   "metadata": {},
   "outputs": [],
   "source": [
    "import pandas as pd"
   ]
  },
  {
   "cell_type": "markdown",
   "metadata": {},
   "source": [
    "#### 1.Data Processing"
   ]
  },
  {
   "cell_type": "code",
   "execution_count": 2,
   "metadata": {},
   "outputs": [],
   "source": [
    "# a) Import the data: Only keep numeric data\n",
    "data=pd.read_csv('ProviderInfo.csv')"
   ]
  },
  {
   "cell_type": "code",
   "execution_count": 3,
   "metadata": {},
   "outputs": [],
   "source": [
    "data=data.select_dtypes(include=['float64'])"
   ]
  },
  {
   "cell_type": "code",
   "execution_count": 4,
   "metadata": {},
   "outputs": [],
   "source": [
    "data=data.drop(columns=['PHONE','COUNTY_SSA'])"
   ]
  },
  {
   "cell_type": "code",
   "execution_count": 5,
   "metadata": {},
   "outputs": [
    {
     "data": {
      "text/plain": [
       "(15617, 28)"
      ]
     },
     "execution_count": 5,
     "metadata": {},
     "output_type": "execute_result"
    }
   ],
   "source": [
    "data.shape"
   ]
  },
  {
   "cell_type": "code",
   "execution_count": 6,
   "metadata": {},
   "outputs": [
    {
     "name": "stdout",
     "output_type": "stream",
     "text": [
      "<class 'pandas.core.frame.DataFrame'>\n",
      "RangeIndex: 15617 entries, 0 to 15616\n",
      "Data columns (total 28 columns):\n",
      "ZIP                   15616 non-null float64\n",
      "BEDCERT               15616 non-null float64\n",
      "RESTOT                15105 non-null float64\n",
      "OVERALL_RATING        15436 non-null float64\n",
      "SURVEY_RATING         15436 non-null float64\n",
      "QUALITY_RATING        15403 non-null float64\n",
      "STAFFING_RATING       15268 non-null float64\n",
      "RN_STAFFING_RATING    15268 non-null float64\n",
      "AIDHRD                14670 non-null float64\n",
      "VOCHRD                14670 non-null float64\n",
      "RNHRD                 14670 non-null float64\n",
      "TOTLICHRD             14670 non-null float64\n",
      "TOTHRD                14670 non-null float64\n",
      "PTHRD                 14670 non-null float64\n",
      "EXP_AIDE              14670 non-null float64\n",
      "EXP_LPN               14670 non-null float64\n",
      "EXP_RN                14670 non-null float64\n",
      "EXP_TOTAL             14670 non-null float64\n",
      "ADJ_AIDE              14560 non-null float64\n",
      "ADJ_LPN               14560 non-null float64\n",
      "ADJ_RN                14560 non-null float64\n",
      "ADJ_TOTAL             14560 non-null float64\n",
      "INCIDENT_CNT          15616 non-null float64\n",
      "CMPLNT_CNT            15616 non-null float64\n",
      "FINE_CNT              15616 non-null float64\n",
      "FINE_TOT              15616 non-null float64\n",
      "PAYDEN_CNT            15616 non-null float64\n",
      "TOT_PENLTY_CNT        15616 non-null float64\n",
      "dtypes: float64(28)\n",
      "memory usage: 3.3 MB\n"
     ]
    }
   ],
   "source": [
    "data.info()"
   ]
  },
  {
   "cell_type": "code",
   "execution_count": 7,
   "metadata": {},
   "outputs": [],
   "source": [
    "# b) Clean Nan and NaT values\n",
    "data=data.dropna()"
   ]
  },
  {
   "cell_type": "code",
   "execution_count": 8,
   "metadata": {},
   "outputs": [
    {
     "data": {
      "text/plain": [
       "(14557, 28)"
      ]
     },
     "execution_count": 8,
     "metadata": {},
     "output_type": "execute_result"
    }
   ],
   "source": [
    "data.shape"
   ]
  },
  {
   "cell_type": "code",
   "execution_count": 9,
   "metadata": {},
   "outputs": [],
   "source": [
    "# c) Split into train / test set using an 80/20 split.\n",
    "from sklearn.model_selection import train_test_split\n",
    "X_train, X_test, y_train, y_test = train_test_split(data.drop(columns=['OVERALL_RATING']), data['OVERALL_RATING'], test_size = 0.2, random_state = 101)"
   ]
  },
  {
   "cell_type": "code",
   "execution_count": 10,
   "metadata": {},
   "outputs": [
    {
     "data": {
      "text/plain": [
       "(11645, 27)"
      ]
     },
     "execution_count": 10,
     "metadata": {},
     "output_type": "execute_result"
    }
   ],
   "source": [
    "# d) Scale X_train data properly (Do not scale the Target Variable)\n",
    "from sklearn.preprocessing import StandardScaler\n",
    "scaler = StandardScaler()\n",
    "scaler.fit(X_train)\n",
    "X_train_scaled=scaler.transform(X_train)\n",
    "X_train_scaled.shape"
   ]
  },
  {
   "cell_type": "code",
   "execution_count": 11,
   "metadata": {},
   "outputs": [
    {
     "data": {
      "text/plain": [
       "(2912, 27)"
      ]
     },
     "execution_count": 11,
     "metadata": {},
     "output_type": "execute_result"
    }
   ],
   "source": [
    "scaler = StandardScaler()\n",
    "scaler.fit(X_test)\n",
    "X_test_scaled=scaler.transform(X_test)\n",
    "X_test_scaled.shape"
   ]
  },
  {
   "cell_type": "markdown",
   "metadata": {},
   "source": [
    "#### 2. Model #1: Logistic Regression"
   ]
  },
  {
   "cell_type": "code",
   "execution_count": 12,
   "metadata": {},
   "outputs": [
    {
     "name": "stderr",
     "output_type": "stream",
     "text": [
      "/Users/yangxiang/anaconda3/lib/python3.7/site-packages/sklearn/linear_model/_logistic.py:940: ConvergenceWarning: lbfgs failed to converge (status=1):\n",
      "STOP: TOTAL NO. of ITERATIONS REACHED LIMIT.\n",
      "\n",
      "Increase the number of iterations (max_iter) or scale the data as shown in:\n",
      "    https://scikit-learn.org/stable/modules/preprocessing.html\n",
      "Please also refer to the documentation for alternative solver options:\n",
      "    https://scikit-learn.org/stable/modules/linear_model.html#logistic-regression\n",
      "  extra_warning_msg=_LOGISTIC_SOLVER_CONVERGENCE_MSG)\n"
     ]
    }
   ],
   "source": [
    "# a) Using LogisticRegression(), build a model to predict the \"OVERALL_RATING\".\n",
    "\n",
    "#Training the Model\n",
    "from sklearn.linear_model import LogisticRegression\n",
    "classifier = LogisticRegression(random_state = 0) \n",
    "classifier.fit(X_train_scaled, y_train) \n",
    "\n",
    "#Use the model to predict on test data\n",
    "\n",
    "y_pred = classifier.predict(X_test_scaled)"
   ]
  },
  {
   "cell_type": "code",
   "execution_count": 13,
   "metadata": {},
   "outputs": [
    {
     "data": {
      "text/plain": [
       "0.8461538461538461"
      ]
     },
     "execution_count": 13,
     "metadata": {},
     "output_type": "execute_result"
    }
   ],
   "source": [
    "# b) For error evaluation, start by calculating the score (returns the mean accuracy).\n",
    "classifier.score(X_test_scaled,y_test)"
   ]
  },
  {
   "cell_type": "code",
   "execution_count": 14,
   "metadata": {},
   "outputs": [
    {
     "data": {
      "text/plain": [
       "array([[265,  80,   0,   0,   0],\n",
       "       [ 71, 458,  77,   0,   0],\n",
       "       [  0,  39, 362,  80,   0],\n",
       "       [  0,   0,  23, 563,  54],\n",
       "       [  0,   0,   0,  24, 816]])"
      ]
     },
     "execution_count": 14,
     "metadata": {},
     "output_type": "execute_result"
    }
   ],
   "source": [
    "# c) Calculate the confusion matrix and classification report for the test data\n",
    "from sklearn.metrics import confusion_matrix\n",
    "confusion_matrix(y_test, y_pred)"
   ]
  },
  {
   "cell_type": "code",
   "execution_count": 15,
   "metadata": {},
   "outputs": [
    {
     "name": "stdout",
     "output_type": "stream",
     "text": [
      "              precision    recall  f1-score   support\n",
      "\n",
      "         1.0       0.79      0.77      0.78       345\n",
      "         2.0       0.79      0.76      0.77       606\n",
      "         3.0       0.78      0.75      0.77       481\n",
      "         4.0       0.84      0.88      0.86       640\n",
      "         5.0       0.94      0.97      0.95       840\n",
      "\n",
      "    accuracy                           0.85      2912\n",
      "   macro avg       0.83      0.83      0.83      2912\n",
      "weighted avg       0.84      0.85      0.84      2912\n",
      "\n"
     ]
    }
   ],
   "source": [
    "# Build the classification report\n",
    "from sklearn.metrics import classification_report\n",
    "print(classification_report(y_test, y_pred))"
   ]
  },
  {
   "cell_type": "markdown",
   "metadata": {},
   "source": [
    "###### d) Based on the confusion matrix and classification report, do any of the classes get predicted exceptionally poorly? \n",
    "Yes, rating 1 was predicted as rating 2 has 80 times, rating 3 was predicted as rating 4 80 times , and rating 2 was predicted as rating 3 33 times. It does not look that accurate and definitely can be improved.\n",
    "\n",
    "One of the possibility is that the threshold(cutting point) in the logistic regression is not well designed so it mis classify some of the datas to the wrong groups.\n",
    "\n",
    "Also the multinomial logistic regression itself is hard to predict."
   ]
  },
  {
   "cell_type": "code",
   "execution_count": 16,
   "metadata": {},
   "outputs": [
    {
     "data": {
      "text/plain": [
       "array([[1060,  294,    0,    0,    0],\n",
       "       [ 236, 1764,  292,    0,    0],\n",
       "       [   0,  271, 1379,  262,    0],\n",
       "       [   0,    0,   90, 2409,  179],\n",
       "       [   0,    0,    0,   99, 3310]])"
      ]
     },
     "execution_count": 16,
     "metadata": {},
     "output_type": "execute_result"
    }
   ],
   "source": [
    "# e) Calculate predictions for the training data & build the confusion matrix and classification report. Are there signs of overfitting? Why or why not?\n",
    "y_pred_train = classifier.predict(X_train_scaled)\n",
    "confusion_matrix(y_train, y_pred_train)"
   ]
  },
  {
   "cell_type": "code",
   "execution_count": 17,
   "metadata": {},
   "outputs": [
    {
     "name": "stdout",
     "output_type": "stream",
     "text": [
      "              precision    recall  f1-score   support\n",
      "\n",
      "         1.0       0.82      0.78      0.80      1354\n",
      "         2.0       0.76      0.77      0.76      2292\n",
      "         3.0       0.78      0.72      0.75      1912\n",
      "         4.0       0.87      0.90      0.88      2678\n",
      "         5.0       0.95      0.97      0.96      3409\n",
      "\n",
      "    accuracy                           0.85     11645\n",
      "   macro avg       0.84      0.83      0.83     11645\n",
      "weighted avg       0.85      0.85      0.85     11645\n",
      "\n"
     ]
    }
   ],
   "source": [
    "# Build the classification report\n",
    "from sklearn.metrics import classification_report\n",
    "print(classification_report(y_train, y_pred_train))"
   ]
  },
  {
   "cell_type": "markdown",
   "metadata": {},
   "source": [
    "Arrording to the classification report, the precision between the training and testing is not that different, which mean that I did not see a nig drop between train and test in terms of the precicison for different levels.\n",
    "\n",
    "Thus, I do not think this shows the sign of overfitting."
   ]
  },
  {
   "cell_type": "code",
   "execution_count": 18,
   "metadata": {},
   "outputs": [
    {
     "data": {
      "text/plain": [
       "array([[6.64956919e-25, 2.85724559e-17, 1.31164697e-09, 1.18479035e-03,\n",
       "        9.98815208e-01],\n",
       "       [9.01301311e-15, 1.84239764e-09, 4.12251807e-04, 6.17654616e-01,\n",
       "        3.81933131e-01],\n",
       "       [2.11268282e-01, 6.69936027e-01, 1.18792947e-01, 2.74371029e-06,\n",
       "        1.38983132e-14],\n",
       "       ...,\n",
       "       [4.04420041e-11, 1.20588104e-06, 1.96162324e-02, 9.37800162e-01,\n",
       "        4.25823994e-02],\n",
       "       [2.87789071e-01, 7.09026744e-01, 3.18412251e-03, 6.24847050e-08,\n",
       "        1.11298231e-14],\n",
       "       [3.60772692e-03, 7.94676456e-01, 1.99984151e-01, 1.73149721e-03,\n",
       "        1.68279821e-07]])"
      ]
     },
     "execution_count": 18,
     "metadata": {},
     "output_type": "execute_result"
    }
   ],
   "source": [
    "# f) Print out an example of the predicted probability. There is a method called .predict_proba() which can be used for estimating these values on the test set.\n",
    "classifier.predict_proba(X_test_scaled)"
   ]
  },
  {
   "cell_type": "markdown",
   "metadata": {},
   "source": [
    "#### 3. Model #2: PCA(n_components = 2) + Logistic Regression"
   ]
  },
  {
   "cell_type": "code",
   "execution_count": 19,
   "metadata": {},
   "outputs": [],
   "source": [
    "# a) Pick up from step d in Problem 1 (use the same data that has been scaled): We will now transform the X_train & X_test data using PCA with 2 components.\n",
    "from sklearn.decomposition import PCA\n",
    "\n",
    "pca = PCA(n_components = 2)\n",
    "X_train_pca_2 = pca.fit_transform(X_train_scaled)\n",
    "X_test_pca_2 = pca.transform(X_test_scaled)"
   ]
  },
  {
   "cell_type": "code",
   "execution_count": 20,
   "metadata": {},
   "outputs": [],
   "source": [
    "# b) Then use the transformed data (X_train_pca_2) to fit a Logistic Regression model\n",
    "#Training the Model\n",
    "from sklearn.linear_model import LogisticRegression\n",
    "classifier = LogisticRegression(random_state = 0) \n",
    "classifier.fit(X_train_pca_2, y_train) \n",
    "\n",
    "#Use the model to predict on test data\n",
    "\n",
    "y_pred_pca_2 = classifier.predict(X_test_pca_2)"
   ]
  },
  {
   "cell_type": "code",
   "execution_count": 21,
   "metadata": {},
   "outputs": [
    {
     "data": {
      "text/plain": [
       "array([[138, 164,   1,  25,  17],\n",
       "       [120, 250,   0,  50, 186],\n",
       "       [ 51, 186,   1,  62, 181],\n",
       "       [ 18, 145,   0,  71, 406],\n",
       "       [ 10, 118,   0,  76, 636]])"
      ]
     },
     "execution_count": 21,
     "metadata": {},
     "output_type": "execute_result"
    }
   ],
   "source": [
    "# c) Calculate the confusion matrix and classification report for the test data\n",
    "from sklearn.metrics import confusion_matrix\n",
    "confusion_matrix(y_test, y_pred_pca_2)"
   ]
  },
  {
   "cell_type": "code",
   "execution_count": 22,
   "metadata": {},
   "outputs": [
    {
     "name": "stdout",
     "output_type": "stream",
     "text": [
      "              precision    recall  f1-score   support\n",
      "\n",
      "         1.0       0.41      0.40      0.40       345\n",
      "         2.0       0.29      0.41      0.34       606\n",
      "         3.0       0.50      0.00      0.00       481\n",
      "         4.0       0.25      0.11      0.15       640\n",
      "         5.0       0.45      0.76      0.56       840\n",
      "\n",
      "    accuracy                           0.38      2912\n",
      "   macro avg       0.38      0.34      0.29      2912\n",
      "weighted avg       0.37      0.38      0.32      2912\n",
      "\n"
     ]
    }
   ],
   "source": [
    "# Build the classification report\n",
    "from sklearn.metrics import classification_report\n",
    "print(classification_report(y_test, y_pred_pca_2))"
   ]
  },
  {
   "cell_type": "code",
   "execution_count": 23,
   "metadata": {},
   "outputs": [
    {
     "data": {
      "text/plain": [
       "array([[ 552,  639,    3,   85,   75],\n",
       "       [ 381, 1045,    3,  263,  600],\n",
       "       [ 154,  794,    2,  286,  676],\n",
       "       [  96,  661,    0,  324, 1597],\n",
       "       [  36,  454,    3,  289, 2627]])"
      ]
     },
     "execution_count": 23,
     "metadata": {},
     "output_type": "execute_result"
    }
   ],
   "source": [
    "# d) Calculate predictions for the training data & build the confusion matrix and classification report. Are there signs of overfitting? Why or why not?\n",
    "y_pred_train_pca_2 = classifier.predict(X_train_pca_2)\n",
    "confusion_matrix(y_train, y_pred_train_pca_2)"
   ]
  },
  {
   "cell_type": "code",
   "execution_count": 24,
   "metadata": {},
   "outputs": [
    {
     "name": "stdout",
     "output_type": "stream",
     "text": [
      "              precision    recall  f1-score   support\n",
      "\n",
      "         1.0       0.45      0.41      0.43      1354\n",
      "         2.0       0.29      0.46      0.36      2292\n",
      "         3.0       0.18      0.00      0.00      1912\n",
      "         4.0       0.26      0.12      0.17      2678\n",
      "         5.0       0.47      0.77      0.58      3409\n",
      "\n",
      "    accuracy                           0.39     11645\n",
      "   macro avg       0.33      0.35      0.31     11645\n",
      "weighted avg       0.34      0.39      0.33     11645\n",
      "\n"
     ]
    }
   ],
   "source": [
    "# Build the classification report\n",
    "from sklearn.metrics import classification_report\n",
    "print(classification_report(y_train, y_pred_train_pca_2))"
   ]
  },
  {
   "cell_type": "markdown",
   "metadata": {},
   "source": [
    "According to the report, the precision between test and training are relatively low, also the precision itself are low, thus I think there is no sigh of overfitting"
   ]
  },
  {
   "cell_type": "markdown",
   "metadata": {},
   "source": [
    "###### e) How well does this model perform relative to Model #1? Explain why there is a shift in performance. \n",
    "It actually preforman worse than Model 1, I think it is because PCA is an algorithm that does not consider the response variable / prediction target into account. PCA will treat the feature has large variance as important features, but the feature has large variance can have noting to do with the prediction target.\n",
    "\n",
    "This means,we can produce a lot of useless features and eliminate useful features after PCA, PCA is agnostic to  y.\n",
    "\n"
   ]
  },
  {
   "cell_type": "markdown",
   "metadata": {},
   "source": [
    "#### 4. Model #3: PCA(n_components = 16) + Logistic Regression\n"
   ]
  },
  {
   "cell_type": "code",
   "execution_count": 25,
   "metadata": {},
   "outputs": [],
   "source": [
    "# a) Pick up from step d in Problem 1 (use the same data that has been scaled): We will now transform the X_train & X_test data using PCA with 16 components. \n",
    "from sklearn.decomposition import PCA\n",
    "\n",
    "pca = PCA(n_components = 16)\n",
    "X_train_pca_16 = pca.fit_transform(X_train_scaled)\n",
    "X_test_pca_16 = pca.transform(X_test_scaled)"
   ]
  },
  {
   "cell_type": "code",
   "execution_count": 26,
   "metadata": {},
   "outputs": [
    {
     "name": "stderr",
     "output_type": "stream",
     "text": [
      "/Users/yangxiang/anaconda3/lib/python3.7/site-packages/sklearn/linear_model/_logistic.py:940: ConvergenceWarning: lbfgs failed to converge (status=1):\n",
      "STOP: TOTAL NO. of ITERATIONS REACHED LIMIT.\n",
      "\n",
      "Increase the number of iterations (max_iter) or scale the data as shown in:\n",
      "    https://scikit-learn.org/stable/modules/preprocessing.html\n",
      "Please also refer to the documentation for alternative solver options:\n",
      "    https://scikit-learn.org/stable/modules/linear_model.html#logistic-regression\n",
      "  extra_warning_msg=_LOGISTIC_SOLVER_CONVERGENCE_MSG)\n"
     ]
    }
   ],
   "source": [
    "# b) Then use the transformed data (X_train_pca_16) to fit a Logistic Regression model.\n",
    "#Training the Model\n",
    "from sklearn.linear_model import LogisticRegression\n",
    "classifier = LogisticRegression(random_state = 0) \n",
    "classifier.fit(X_train_pca_16, y_train) \n",
    "\n",
    "#Use the model to predict on test data\n",
    "\n",
    "y_pred_pca_16 = classifier.predict(X_test_pca_16)"
   ]
  },
  {
   "cell_type": "code",
   "execution_count": 27,
   "metadata": {},
   "outputs": [
    {
     "data": {
      "text/plain": [
       "array([[262,  83,   0,   0,   0],\n",
       "       [ 63, 470,  73,   0,   0],\n",
       "       [  0,  31, 366,  84,   0],\n",
       "       [  0,   0,  26, 550,  64],\n",
       "       [  0,   0,   0,  31, 809]])"
      ]
     },
     "execution_count": 27,
     "metadata": {},
     "output_type": "execute_result"
    }
   ],
   "source": [
    "# c) Calculate the confusion matrix and classification report for the test data\n",
    "from sklearn.metrics import confusion_matrix\n",
    "confusion_matrix(y_test, y_pred_pca_16)"
   ]
  },
  {
   "cell_type": "code",
   "execution_count": 28,
   "metadata": {},
   "outputs": [
    {
     "name": "stdout",
     "output_type": "stream",
     "text": [
      "              precision    recall  f1-score   support\n",
      "\n",
      "         1.0       0.81      0.76      0.78       345\n",
      "         2.0       0.80      0.78      0.79       606\n",
      "         3.0       0.79      0.76      0.77       481\n",
      "         4.0       0.83      0.86      0.84       640\n",
      "         5.0       0.93      0.96      0.94       840\n",
      "\n",
      "    accuracy                           0.84      2912\n",
      "   macro avg       0.83      0.82      0.83      2912\n",
      "weighted avg       0.84      0.84      0.84      2912\n",
      "\n"
     ]
    }
   ],
   "source": [
    "# Build the classification report\n",
    "from sklearn.metrics import classification_report\n",
    "print(classification_report(y_test, y_pred_pca_16))"
   ]
  },
  {
   "cell_type": "code",
   "execution_count": 29,
   "metadata": {},
   "outputs": [
    {
     "data": {
      "text/plain": [
       "array([[1051,  303,    0,    0,    0],\n",
       "       [ 229, 1797,  265,    1,    0],\n",
       "       [   0,  240, 1431,  241,    0],\n",
       "       [   0,    0,  140, 2314,  224],\n",
       "       [   0,    0,    0,  191, 3218]])"
      ]
     },
     "execution_count": 29,
     "metadata": {},
     "output_type": "execute_result"
    }
   ],
   "source": [
    "# d) Calculate predictions for the training data & build the confusion matrix and classification report. Are there signs of overfitting? Why or why not?\n",
    "y_pred_train_pca_16 = classifier.predict(X_train_pca_16)\n",
    "confusion_matrix(y_train, y_pred_train_pca_16)"
   ]
  },
  {
   "cell_type": "code",
   "execution_count": 30,
   "metadata": {},
   "outputs": [
    {
     "name": "stdout",
     "output_type": "stream",
     "text": [
      "              precision    recall  f1-score   support\n",
      "\n",
      "         1.0       0.82      0.78      0.80      1354\n",
      "         2.0       0.77      0.78      0.78      2292\n",
      "         3.0       0.78      0.75      0.76      1912\n",
      "         4.0       0.84      0.86      0.85      2678\n",
      "         5.0       0.93      0.94      0.94      3409\n",
      "\n",
      "    accuracy                           0.84     11645\n",
      "   macro avg       0.83      0.82      0.83     11645\n",
      "weighted avg       0.84      0.84      0.84     11645\n",
      "\n"
     ]
    }
   ],
   "source": [
    "# Build the classification report\n",
    "from sklearn.metrics import classification_report\n",
    "print(classification_report(y_train, y_pred_train_pca_16))"
   ]
  },
  {
   "cell_type": "markdown",
   "metadata": {},
   "source": [
    "Arrording to the classification report, the precision between the training and testing is not that different, which mean that I did not see a nig drop between train and test in terms of the precicison for different levels.\n",
    "\n",
    "Thus, I do not think this shows the sign of overfitting."
   ]
  },
  {
   "cell_type": "markdown",
   "metadata": {},
   "source": [
    "#### 5.Conceptual Questions:"
   ]
  },
  {
   "cell_type": "markdown",
   "metadata": {},
   "source": [
    "###### a) In order to better understand what is happening in Model 2 & Model 3, rerun PCA without specifying a number of components. Plot out the cumulative explained variance ratio vs number of components for the original scaled data. Describe what the plot is showing as well as what the cumulative explained variance tells us about our data.\n"
   ]
  },
  {
   "cell_type": "code",
   "execution_count": 31,
   "metadata": {},
   "outputs": [
    {
     "data": {
      "text/plain": [
       "array([0.23164435, 0.38192088, 0.50227207, 0.60002066, 0.67148358,\n",
       "       0.71896401, 0.76046329, 0.79787776, 0.82987261, 0.85669036,\n",
       "       0.88250227, 0.90741773, 0.92998149, 0.95158734, 0.97008799,\n",
       "       0.98608693, 0.99188301, 0.99525409, 0.99789404, 0.99926093,\n",
       "       0.99975565, 0.99996093, 1.        , 1.        , 1.        ,\n",
       "       1.        , 1.        ])"
      ]
     },
     "execution_count": 31,
     "metadata": {},
     "output_type": "execute_result"
    }
   ],
   "source": [
    "# Rerun PCA without specifying a number of components.\n",
    "from sklearn.decomposition import PCA\n",
    "\n",
    "pca = PCA()\n",
    "X_train_pca = pca.fit_transform(X_train_scaled)\n",
    "pca.explained_variance_ratio_.cumsum()"
   ]
  },
  {
   "cell_type": "code",
   "execution_count": 32,
   "metadata": {},
   "outputs": [],
   "source": [
    "import seaborn as sns\n",
    "df = pd.DataFrame({'Variance Explained':pca.explained_variance_ratio_,\n",
    "             'Principal Components':['PC1','PC2','PC3','PC4','PC5','PC6','PC7','PC8','PC9','PC10','PC11','PC12','PC13','PC14','PC15','PC16','PC17','PC18','PC19','PC20','PC21','PC22','PC23','PC24','PC25','PC26','PC27']})\n",
    "sns.barplot(x='Principal Components',y=\"Variance Explained\", \n",
    "           data=df, color=\"c\");"
   ]
  },
  {
   "cell_type": "code",
   "execution_count": 33,
   "metadata": {},
   "outputs": [],
   "source": [
    "Cumulative_Explained_Variance_Ratio=pca.explained_variance_ratio_.cumsum(),\n",
    "Principal_Components=['PC1','PC2','PC3','PC4','PC5','PC6','PC7','PC8','PC9','PC10','PC11','PC12','PC13','PC14','PC15','PC16','PC17','PC18','PC19','PC20','PC21','PC22','PC23','PC24','PC25','PC26','PC27']"
   ]
  },
  {
   "cell_type": "code",
   "execution_count": 34,
   "metadata": {
    "scrolled": true
   },
   "outputs": [
    {
     "data": {
      "image/png": "[encoded data removed]",
      "text/plain": [
       "<Figure size 1080x720 with 1 Axes>"
      ]
     },
     "metadata": {
      "needs_background": "light"
     },
     "output_type": "display_data"
    }
   ],
   "source": [
    "import matplotlib.pyplot as plt\n",
    "plt.figure(figsize=(15,10))\n",
    "plt.plot(Principal_Components,list(Cumulative_Explained_Variance_Ratio[0]))\n",
    "plt.ylabel('Cumulative Explained Variance Ratio')\n",
    "plt.xlabel('Principal Components')\n",
    "plt.show()"
   ]
  },
  {
   "cell_type": "markdown",
   "metadata": {},
   "source": [
    "The plot shows that in order to get 80% of the Cumulative Explained Variance, we need at least 9 PCAs, with 16 PCAs we can reach 98.6% of Cumulative Explained Variance, compare of the original 27 features, it is already big improvent in terms of the Dimension reduction."
   ]
  },
  {
   "cell_type": "markdown",
   "metadata": {},
   "source": [
    "###### b) Between Model 2 and Model 3, which performed the best? Explain why this is.\n",
    "Model 3 performed the best, first of all, from the confusion matrix and classification report, we can see that Model 3 have a much higer accuracy rate, also according to Cumulative_Explained_Variance_Ratio plot, we can see that with the model have only 2 PCAs, the Cumulative Explained Variance Ratio can only goes to 0.38192088, which is far away from the accuray that we are typically looking for. \n",
    "\n",
    "Thuse, Model 3 performed better than Model 2"
   ]
  },
  {
   "cell_type": "markdown",
   "metadata": {},
   "source": [
    "###### c) Assuming you are working with a company on a modeling project with a massive data set, what would be some of the benefits of utilizing PCA? \n",
    "\n",
    "1. Removes Correlated Features: In a real world scenario, this is very common that you get thousands of features in your dataset. You cannot run your algorithm on all the features as it will reduce the performance of your algorithm and it will not be easy to visualize that many features in any kind of graph. So, you MUST reduce the number of features in your dataset. \n",
    "After implementing the PCA on your dataset, all the Principal Components are independent of one another. There is no correlation among them.\n",
    "\n",
    "2. Improves Algorithm Performance: With so many features, the performance of your algorithm will drastically degrade. PCA is a very common way to speed up your Machine Learning algorithm by getting rid of correlated variables which don't contribute in any decision making. The training time of the algorithms reduces significantly with less number of features.\n",
    "So, if the input dimensions are too high, then using PCA to speed up the algorithm is a reasonable choice. \n",
    "\n",
    "3. Reduces Overfitting: Overfitting mainly occurs when there are too many variables in the dataset. So, PCA helps in overcoming the overfitting issue by reducing the number of features.\n",
    "\n",
    "4. Improves Visualization: It is very hard to visualize and understand the data in high dimensions. PCA transforms a high dimensional data to low dimensional data (2 dimension) so that it can be visualized easily. \n",
    "We can use 2D Scree Plot to see which Principal Components result in high variance and have more impact as compared to other Principal Components. \n",
    "\n",
    "\n"
   ]
  },
  {
   "cell_type": "markdown",
   "metadata": {},
   "source": [
    "###### d) Now argue the opposite of question 3 - what is a negative result of utilizing this  dimensionality reduction technique?\n",
    "1. Independent variables become less interpretable: After implementing PCA on the dataset, your original features will turn into Principal Components. Principal Components are the linear combination of your original features. Principal Components are not as readable and interpretable as original features.\n",
    "\n",
    "2. Data standardization is must before PCA: You must standardize your data before implementing PCA, otherwise PCA will not be able to find the optimal Principal Components. \n",
    "Also, for standardization, all the categorical features are required to be converted into numerical features before PCA can be applied.\n",
    "PCA is affected by scale, so you need to scale the features in your data before applying PCA. Use StandardScaler from Scikit Learn to standardize the dataset features onto unit scale (mean = 0 and standard deviation = 1) which is a requirement for the optimal performance of many Machine Learning algorithms.\n",
    "\n",
    "3. Information Loss: Although Principal Components try to cover maximum variance among the features in a dataset, if we don't select the number of Principal Components with care, it may miss some information as compared to the original list of features."
   ]
  },
  {
   "cell_type": "markdown",
   "metadata": {},
   "source": [
    "###### e) sklearn offers a variety of methods to solve a multiclass logistic regression problem. One option is the \"one-vs-the-rest\" (also known as \"one-vs-all\" method). Explain in detail what this process does.\n",
    "\n",
    "In one-vs-rest logistic regression (OVR) a separate model is trained for each class predicted whether an observation is that class or not (thus making it a binary classification problem). It assumes that each classification problem (e.g. class 0 or not) is independent.A binary problem is fit for each label. "
   ]
  },
  {
   "cell_type": "markdown",
   "metadata": {},
   "source": [
    "###### f) Each of the three models utilized logistic regression. The Hands-On ML book describes the logistic function (sometimes called the sigmoid function) in detail. Using Equation 4-14, plot out the logistic function & describe why it is useful in classification problems of the nature covered in this homework assignment."
   ]
  },
  {
   "cell_type": "code",
   "execution_count": 122,
   "metadata": {},
   "outputs": [
    {
     "data": {
      "image/png": "[encoded data removed]",
      "text/plain": [
       "<Figure size 648x216 with 1 Axes>"
      ]
     },
     "metadata": {
      "needs_background": "light"
     },
     "output_type": "display_data"
    }
   ],
   "source": [
    "t = np.linspace(-10, 10, 100)\n",
    "sig = 1 / (1 + np.exp(-t))\n",
    "plt.figure(figsize=(9, 3))\n",
    "plt.plot([-10, 10], [0, 0], \"k-\")\n",
    "plt.plot([-10, 10], [0.5, 0.5], \"k:\")\n",
    "plt.plot([-10, 10], [1, 1], \"k:\")\n",
    "plt.plot([0, 0], [-1.1, 1.1], \"k-\")\n",
    "plt.plot(t, sig, \"b-\", linewidth=2, label=r\"$\\sigma(t) = \\frac{1}{1 + e^{-t}}$\")\n",
    "plt.xlabel(\"t\")\n",
    "plt.legend(loc=\"upper left\", fontsize=20)\n",
    "plt.axis([-10, 10, -0.1, 1.1])\n",
    "plt.show()\n",
    "\n",
    "# "
   ]
  },
  {
   "cell_type": "markdown",
   "metadata": {},
   "source": [
    "For the nature covered in this homework assignment, the predicted variable overall rating to the other features is somehow a generalized model. Using Linear regression will not make sense here since we are predicting the Rating, and there are only 5 level of ratings. Using logistic function to create a GLM model will help us to classify Categorical variable in a more clear and convient way."
   ]
  }
 ],
 "metadata": {
  "kernelspec": {
   "display_name": "Python 3",
   "language": "python",
   "name": "python3"
  },
  "language_info": {
   "codemirror_mode": {
    "name": "ipython",
    "version": 3
   },
   "file_extension": ".py",
   "mimetype": "text/x-python",
   "name": "python",
   "nbconvert_exporter": "python",
   "pygments_lexer": "ipython3",
   "version": "3.7.3"
  }
 },
 "nbformat": 4,
 "nbformat_minor": 2
}
